{
 "cells": [
  {
   "cell_type": "markdown",
   "metadata": {},
   "source": [
    "# Preprocessing of rental data, apartment sales data & postal code keys data"
   ]
  },
  {
   "cell_type": "code",
   "execution_count": 1,
   "metadata": {},
   "outputs": [],
   "source": [
    "cities = ['Helsinki', 'Espoo-Kauniainen', 'Tampere', 'Vantaa', 'Oulu', 'Turku', 'Jyväskylä', \\\n",
    "        'Kuopio', 'Lahti', 'Pori', 'Kouvola', 'Joensuu', 'Lappeenranta', 'Hämeenlinna', \\\n",
    "        'Vaasa', 'Seinäjoki', 'Rovaniemi', 'Mikkeli', 'Porvoo', 'Kotka']"
   ]
  },
  {
   "cell_type": "markdown",
   "metadata": {},
   "source": [
    "## Rental apartment data"
   ]
  },
  {
   "cell_type": "markdown",
   "metadata": {},
   "source": [
    "### Rentals 2011-2014"
   ]
  },
  {
   "cell_type": "markdown",
   "metadata": {},
   "source": [
    "##### Read .csv-file"
   ]
  },
  {
   "cell_type": "code",
   "execution_count": 2,
   "metadata": {},
   "outputs": [
    {
     "data": {
      "text/html": [
       "<div>\n",
       "<style scoped>\n",
       "    .dataframe tbody tr th:only-of-type {\n",
       "        vertical-align: middle;\n",
       "    }\n",
       "\n",
       "    .dataframe tbody tr th {\n",
       "        vertical-align: top;\n",
       "    }\n",
       "\n",
       "    .dataframe thead th {\n",
       "        text-align: right;\n",
       "    }\n",
       "</style>\n",
       "<table border=\"1\" class=\"dataframe\">\n",
       "  <thead>\n",
       "    <tr style=\"text-align: right;\">\n",
       "      <th></th>\n",
       "      <th>Vuosi</th>\n",
       "      <th>Alue</th>\n",
       "      <th>Rahoitusmuoto</th>\n",
       "      <th>Luokka</th>\n",
       "      <th>Neliövuokra, euroa/m2/kk</th>\n",
       "      <th>Lukumäärä</th>\n",
       "    </tr>\n",
       "  </thead>\n",
       "  <tbody>\n",
       "    <tr>\n",
       "      <th>0</th>\n",
       "      <td>2011</td>\n",
       "      <td>Koko maa</td>\n",
       "      <td>Vapaarahoitteinen</td>\n",
       "      <td>1h</td>\n",
       "      <td>14.46</td>\n",
       "      <td>50921</td>\n",
       "    </tr>\n",
       "    <tr>\n",
       "      <th>1</th>\n",
       "      <td>2011</td>\n",
       "      <td>Koko maa</td>\n",
       "      <td>Vapaarahoitteinen</td>\n",
       "      <td>2h</td>\n",
       "      <td>11.02</td>\n",
       "      <td>49291</td>\n",
       "    </tr>\n",
       "    <tr>\n",
       "      <th>2</th>\n",
       "      <td>2011</td>\n",
       "      <td>Koko maa</td>\n",
       "      <td>Vapaarahoitteinen</td>\n",
       "      <td>3h+</td>\n",
       "      <td>9.64</td>\n",
       "      <td>21830</td>\n",
       "    </tr>\n",
       "    <tr>\n",
       "      <th>3</th>\n",
       "      <td>2011</td>\n",
       "      <td>Pääkaupunkiseutu (PKS)</td>\n",
       "      <td>Vapaarahoitteinen</td>\n",
       "      <td>1h</td>\n",
       "      <td>18.18</td>\n",
       "      <td>11510</td>\n",
       "    </tr>\n",
       "    <tr>\n",
       "      <th>4</th>\n",
       "      <td>2011</td>\n",
       "      <td>Pääkaupunkiseutu (PKS)</td>\n",
       "      <td>Vapaarahoitteinen</td>\n",
       "      <td>2h</td>\n",
       "      <td>13.93</td>\n",
       "      <td>8610</td>\n",
       "    </tr>\n",
       "  </tbody>\n",
       "</table>\n",
       "</div>"
      ],
      "text/plain": [
       "   Vuosi                    Alue      Rahoitusmuoto Luokka  \\\n",
       "0   2011                Koko maa  Vapaarahoitteinen     1h   \n",
       "1   2011                Koko maa  Vapaarahoitteinen     2h   \n",
       "2   2011                Koko maa  Vapaarahoitteinen    3h+   \n",
       "3   2011  Pääkaupunkiseutu (PKS)  Vapaarahoitteinen     1h   \n",
       "4   2011  Pääkaupunkiseutu (PKS)  Vapaarahoitteinen     2h   \n",
       "\n",
       "   Neliövuokra, euroa/m2/kk  Lukumäärä  \n",
       "0                     14.46      50921  \n",
       "1                     11.02      49291  \n",
       "2                      9.64      21830  \n",
       "3                     18.18      11510  \n",
       "4                     13.93       8610  "
      ]
     },
     "execution_count": 2,
     "metadata": {},
     "output_type": "execute_result"
    }
   ],
   "source": [
    "import pandas as pd\n",
    "\n",
    "csv_file = 'raw_data/002_vuokrat_2011-2018.csv'\n",
    "\n",
    "rentals_2011_2018_df = pd.read_csv(csv_file, delimiter=';', encoding='latin1')\n",
    "\n",
    "rentals_2011_2018_df.head()"
   ]
  },
  {
   "cell_type": "markdown",
   "metadata": {},
   "source": [
    "##### Rename columns"
   ]
  },
  {
   "cell_type": "code",
   "execution_count": 3,
   "metadata": {},
   "outputs": [],
   "source": [
    "rentals_2011_2018_df.rename(\n",
    "    columns={\n",
    "        'Vuosi': 'Year', \n",
    "        'Alue': 'City',\n",
    "        'Luokka': 'Rooms',\n",
    "        'Neliövuokra, euroa/m2/kk': 'Rent per m2',\n",
    "        'Lukumäärä': 'Rental apartment count',\n",
    "    },\n",
    "    inplace=True\n",
    ")"
   ]
  },
  {
   "cell_type": "markdown",
   "metadata": {},
   "source": [
    "##### Remove column, filter area & year"
   ]
  },
  {
   "cell_type": "code",
   "execution_count": 4,
   "metadata": {},
   "outputs": [
    {
     "name": "stdout",
     "output_type": "stream",
     "text": [
      "<class 'pandas.core.frame.DataFrame'>\n",
      "Int64Index: 240 entries, 75 to 1091\n",
      "Data columns (total 5 columns):\n",
      " #   Column                  Non-Null Count  Dtype  \n",
      "---  ------                  --------------  -----  \n",
      " 0   Year                    240 non-null    int64  \n",
      " 1   City                    240 non-null    object \n",
      " 2   Rooms                   240 non-null    object \n",
      " 3   Rent per m2             240 non-null    float64\n",
      " 4   Rental apartment count  240 non-null    int64  \n",
      "dtypes: float64(1), int64(2), object(2)\n",
      "memory usage: 11.2+ KB\n"
     ]
    }
   ],
   "source": [
    "rentals_2011_2018_df = rentals_2011_2018_df.drop('Rahoitusmuoto', axis=1)\n",
    "rentals_2011_2018_df = rentals_2011_2018_df[rentals_2011_2018_df['City'].isin(cities)]\n",
    "rentals_2011_2014_df = rentals_2011_2018_df[rentals_2011_2018_df['Year'] < 2015].copy()\n",
    "\n",
    "rentals_2011_2014_df.info()"
   ]
  },
  {
   "cell_type": "markdown",
   "metadata": {},
   "source": [
    "##### Categorize number of rooms"
   ]
  },
  {
   "cell_type": "code",
   "execution_count": 5,
   "metadata": {},
   "outputs": [
    {
     "data": {
      "text/html": [
       "<div>\n",
       "<style scoped>\n",
       "    .dataframe tbody tr th:only-of-type {\n",
       "        vertical-align: middle;\n",
       "    }\n",
       "\n",
       "    .dataframe tbody tr th {\n",
       "        vertical-align: top;\n",
       "    }\n",
       "\n",
       "    .dataframe thead th {\n",
       "        text-align: right;\n",
       "    }\n",
       "</style>\n",
       "<table border=\"1\" class=\"dataframe\">\n",
       "  <thead>\n",
       "    <tr style=\"text-align: right;\">\n",
       "      <th></th>\n",
       "      <th>Year</th>\n",
       "      <th>City</th>\n",
       "      <th>Rooms</th>\n",
       "      <th>Rent per m2</th>\n",
       "      <th>Rental apartment count</th>\n",
       "    </tr>\n",
       "  </thead>\n",
       "  <tbody>\n",
       "    <tr>\n",
       "      <th>75</th>\n",
       "      <td>2011</td>\n",
       "      <td>Helsinki</td>\n",
       "      <td>1</td>\n",
       "      <td>18.83</td>\n",
       "      <td>9050</td>\n",
       "    </tr>\n",
       "    <tr>\n",
       "      <th>76</th>\n",
       "      <td>2011</td>\n",
       "      <td>Helsinki</td>\n",
       "      <td>2</td>\n",
       "      <td>14.20</td>\n",
       "      <td>5949</td>\n",
       "    </tr>\n",
       "    <tr>\n",
       "      <th>77</th>\n",
       "      <td>2011</td>\n",
       "      <td>Helsinki</td>\n",
       "      <td>3</td>\n",
       "      <td>12.22</td>\n",
       "      <td>2181</td>\n",
       "    </tr>\n",
       "    <tr>\n",
       "      <th>90</th>\n",
       "      <td>2011</td>\n",
       "      <td>Espoo-Kauniainen</td>\n",
       "      <td>1</td>\n",
       "      <td>15.72</td>\n",
       "      <td>1217</td>\n",
       "    </tr>\n",
       "    <tr>\n",
       "      <th>91</th>\n",
       "      <td>2011</td>\n",
       "      <td>Espoo-Kauniainen</td>\n",
       "      <td>2</td>\n",
       "      <td>13.88</td>\n",
       "      <td>1318</td>\n",
       "    </tr>\n",
       "  </tbody>\n",
       "</table>\n",
       "</div>"
      ],
      "text/plain": [
       "    Year              City Rooms  Rent per m2  Rental apartment count\n",
       "75  2011          Helsinki     1        18.83                    9050\n",
       "76  2011          Helsinki     2        14.20                    5949\n",
       "77  2011          Helsinki     3        12.22                    2181\n",
       "90  2011  Espoo-Kauniainen     1        15.72                    1217\n",
       "91  2011  Espoo-Kauniainen     2        13.88                    1318"
      ]
     },
     "execution_count": 5,
     "metadata": {},
     "output_type": "execute_result"
    }
   ],
   "source": [
    "category_codes = {'1h': 1, '2h': 2, '3h+': 3}\n",
    "rentals_2011_2014_df['Rooms'] = pd.Categorical(rentals_2011_2014_df['Rooms'], categories=category_codes.keys(), ordered=True)\n",
    "rentals_2011_2014_df['Rooms'] = rentals_2011_2014_df['Rooms'].cat.rename_categories(category_codes)\n",
    "\n",
    "rentals_2011_2014_df.head()"
   ]
  },
  {
   "cell_type": "markdown",
   "metadata": {},
   "source": [
    "### Rentals 2015-2022"
   ]
  },
  {
   "cell_type": "markdown",
   "metadata": {},
   "source": [
    "##### Read .csv-file"
   ]
  },
  {
   "cell_type": "code",
   "execution_count": 6,
   "metadata": {},
   "outputs": [
    {
     "data": {
      "text/html": [
       "<div>\n",
       "<style scoped>\n",
       "    .dataframe tbody tr th:only-of-type {\n",
       "        vertical-align: middle;\n",
       "    }\n",
       "\n",
       "    .dataframe tbody tr th {\n",
       "        vertical-align: top;\n",
       "    }\n",
       "\n",
       "    .dataframe thead th {\n",
       "        text-align: right;\n",
       "    }\n",
       "</style>\n",
       "<table border=\"1\" class=\"dataframe\">\n",
       "  <thead>\n",
       "    <tr style=\"text-align: right;\">\n",
       "      <th></th>\n",
       "      <th>Vuosi</th>\n",
       "      <th>Alue</th>\n",
       "      <th>Huoneluku</th>\n",
       "      <th>Rahoitusmuoto</th>\n",
       "      <th>Lukumäärä</th>\n",
       "      <th>Neliövuokra (eur/m2)</th>\n",
       "    </tr>\n",
       "  </thead>\n",
       "  <tbody>\n",
       "    <tr>\n",
       "      <th>0</th>\n",
       "      <td>2015</td>\n",
       "      <td>Koko maa</td>\n",
       "      <td>Yksiöt</td>\n",
       "      <td>Vapaarahoitteinen</td>\n",
       "      <td>172192</td>\n",
       "      <td>16.38</td>\n",
       "    </tr>\n",
       "    <tr>\n",
       "      <th>1</th>\n",
       "      <td>2015</td>\n",
       "      <td>Koko maa</td>\n",
       "      <td>Kaksiot</td>\n",
       "      <td>Vapaarahoitteinen</td>\n",
       "      <td>175484</td>\n",
       "      <td>11.76</td>\n",
       "    </tr>\n",
       "    <tr>\n",
       "      <th>2</th>\n",
       "      <td>2015</td>\n",
       "      <td>Koko maa</td>\n",
       "      <td>Kolmiot+</td>\n",
       "      <td>Vapaarahoitteinen</td>\n",
       "      <td>66615</td>\n",
       "      <td>11.27</td>\n",
       "    </tr>\n",
       "    <tr>\n",
       "      <th>3</th>\n",
       "      <td>2015</td>\n",
       "      <td>Pääkaupunkiseutu (PKS)</td>\n",
       "      <td>Yksiöt</td>\n",
       "      <td>Vapaarahoitteinen</td>\n",
       "      <td>47530</td>\n",
       "      <td>22.07</td>\n",
       "    </tr>\n",
       "    <tr>\n",
       "      <th>4</th>\n",
       "      <td>2015</td>\n",
       "      <td>Pääkaupunkiseutu (PKS)</td>\n",
       "      <td>Kaksiot</td>\n",
       "      <td>Vapaarahoitteinen</td>\n",
       "      <td>49504</td>\n",
       "      <td>15.58</td>\n",
       "    </tr>\n",
       "  </tbody>\n",
       "</table>\n",
       "</div>"
      ],
      "text/plain": [
       "   Vuosi                    Alue Huoneluku      Rahoitusmuoto  Lukumäärä  \\\n",
       "0   2015                Koko maa    Yksiöt  Vapaarahoitteinen     172192   \n",
       "1   2015                Koko maa   Kaksiot  Vapaarahoitteinen     175484   \n",
       "2   2015                Koko maa  Kolmiot+  Vapaarahoitteinen      66615   \n",
       "3   2015  Pääkaupunkiseutu (PKS)    Yksiöt  Vapaarahoitteinen      47530   \n",
       "4   2015  Pääkaupunkiseutu (PKS)   Kaksiot  Vapaarahoitteinen      49504   \n",
       "\n",
       "   Neliövuokra (eur/m2)  \n",
       "0                 16.38  \n",
       "1                 11.76  \n",
       "2                 11.27  \n",
       "3                 22.07  \n",
       "4                 15.58  "
      ]
     },
     "execution_count": 6,
     "metadata": {},
     "output_type": "execute_result"
    }
   ],
   "source": [
    "import pandas as pd\n",
    "\n",
    "csv_file = 'raw_data/11x5_vuokrat_2015-2022.csv'\n",
    "\n",
    "rentals_2015_2022_df = pd.read_csv(csv_file, delimiter=';', encoding='latin1')\n",
    "\n",
    "rentals_2015_2022_df.head()"
   ]
  },
  {
   "cell_type": "markdown",
   "metadata": {},
   "source": [
    "##### Rename columns"
   ]
  },
  {
   "cell_type": "code",
   "execution_count": 7,
   "metadata": {},
   "outputs": [],
   "source": [
    "rentals_2015_2022_df.rename(\n",
    "    columns={\n",
    "        'Vuosi': 'Year', \n",
    "        'Alue': 'City',\n",
    "        'Huoneluku': 'Rooms',\n",
    "        'Lukumäärä': 'Rental apartment count',\n",
    "        'Neliövuokra (eur/m2)': 'Rent per m2',\n",
    "    },\n",
    "    inplace=True\n",
    ")"
   ]
  },
  {
   "cell_type": "markdown",
   "metadata": {},
   "source": [
    "##### Remove column & filter area"
   ]
  },
  {
   "cell_type": "code",
   "execution_count": 8,
   "metadata": {},
   "outputs": [
    {
     "name": "stdout",
     "output_type": "stream",
     "text": [
      "<class 'pandas.core.frame.DataFrame'>\n",
      "Int64Index: 480 entries, 12 to 2015\n",
      "Data columns (total 5 columns):\n",
      " #   Column                  Non-Null Count  Dtype  \n",
      "---  ------                  --------------  -----  \n",
      " 0   Year                    480 non-null    int64  \n",
      " 1   City                    480 non-null    object \n",
      " 2   Rooms                   480 non-null    object \n",
      " 3   Rental apartment count  480 non-null    int64  \n",
      " 4   Rent per m2             480 non-null    float64\n",
      "dtypes: float64(1), int64(2), object(2)\n",
      "memory usage: 22.5+ KB\n"
     ]
    }
   ],
   "source": [
    "rentals_2015_2022_df = rentals_2015_2022_df.drop('Rahoitusmuoto', axis=1)\n",
    "rentals_2015_2022_df = rentals_2015_2022_df[rentals_2015_2022_df['City'].isin(cities)]\n",
    "\n",
    "rentals_2015_2022_df.info()"
   ]
  },
  {
   "cell_type": "markdown",
   "metadata": {},
   "source": [
    "##### Categorize number of rooms"
   ]
  },
  {
   "cell_type": "code",
   "execution_count": 9,
   "metadata": {},
   "outputs": [],
   "source": [
    "category_codes = {'Yksiöt': 1, 'Kaksiot': 2, 'Kolmiot+': 3}\n",
    "rentals_2015_2022_df['Rooms'] = pd.Categorical(rentals_2015_2022_df['Rooms'], categories=category_codes.keys(), ordered=True)\n",
    "rentals_2015_2022_df['Rooms'] = rentals_2015_2022_df['Rooms'].cat.rename_categories(category_codes)"
   ]
  },
  {
   "cell_type": "markdown",
   "metadata": {},
   "source": [
    "##### Reorder columns"
   ]
  },
  {
   "cell_type": "code",
   "execution_count": 10,
   "metadata": {},
   "outputs": [
    {
     "data": {
      "text/html": [
       "<div>\n",
       "<style scoped>\n",
       "    .dataframe tbody tr th:only-of-type {\n",
       "        vertical-align: middle;\n",
       "    }\n",
       "\n",
       "    .dataframe tbody tr th {\n",
       "        vertical-align: top;\n",
       "    }\n",
       "\n",
       "    .dataframe thead th {\n",
       "        text-align: right;\n",
       "    }\n",
       "</style>\n",
       "<table border=\"1\" class=\"dataframe\">\n",
       "  <thead>\n",
       "    <tr style=\"text-align: right;\">\n",
       "      <th></th>\n",
       "      <th>Year</th>\n",
       "      <th>City</th>\n",
       "      <th>Rooms</th>\n",
       "      <th>Rent per m2</th>\n",
       "      <th>Rental apartment count</th>\n",
       "    </tr>\n",
       "  </thead>\n",
       "  <tbody>\n",
       "    <tr>\n",
       "      <th>12</th>\n",
       "      <td>2015</td>\n",
       "      <td>Helsinki</td>\n",
       "      <td>1</td>\n",
       "      <td>22.97</td>\n",
       "      <td>34702</td>\n",
       "    </tr>\n",
       "    <tr>\n",
       "      <th>13</th>\n",
       "      <td>2015</td>\n",
       "      <td>Helsinki</td>\n",
       "      <td>2</td>\n",
       "      <td>15.97</td>\n",
       "      <td>27355</td>\n",
       "    </tr>\n",
       "    <tr>\n",
       "      <th>14</th>\n",
       "      <td>2015</td>\n",
       "      <td>Helsinki</td>\n",
       "      <td>3</td>\n",
       "      <td>14.78</td>\n",
       "      <td>11993</td>\n",
       "    </tr>\n",
       "    <tr>\n",
       "      <th>27</th>\n",
       "      <td>2015</td>\n",
       "      <td>Espoo-Kauniainen</td>\n",
       "      <td>1</td>\n",
       "      <td>19.74</td>\n",
       "      <td>6202</td>\n",
       "    </tr>\n",
       "    <tr>\n",
       "      <th>28</th>\n",
       "      <td>2015</td>\n",
       "      <td>Espoo-Kauniainen</td>\n",
       "      <td>2</td>\n",
       "      <td>14.89</td>\n",
       "      <td>9814</td>\n",
       "    </tr>\n",
       "  </tbody>\n",
       "</table>\n",
       "</div>"
      ],
      "text/plain": [
       "    Year              City Rooms  Rent per m2  Rental apartment count\n",
       "12  2015          Helsinki     1        22.97                   34702\n",
       "13  2015          Helsinki     2        15.97                   27355\n",
       "14  2015          Helsinki     3        14.78                   11993\n",
       "27  2015  Espoo-Kauniainen     1        19.74                    6202\n",
       "28  2015  Espoo-Kauniainen     2        14.89                    9814"
      ]
     },
     "execution_count": 10,
     "metadata": {},
     "output_type": "execute_result"
    }
   ],
   "source": [
    "rentals_2015_2022_df = rentals_2015_2022_df[['Year', 'City', 'Rooms', 'Rent per m2', 'Rental apartment count']]\n",
    "\n",
    "rentals_2015_2022_df.head()"
   ]
  },
  {
   "cell_type": "markdown",
   "metadata": {},
   "source": [
    "### Merge rentals 2011-2022"
   ]
  },
  {
   "cell_type": "code",
   "execution_count": 11,
   "metadata": {},
   "outputs": [
    {
     "name": "stdout",
     "output_type": "stream",
     "text": [
      "<class 'pandas.core.frame.DataFrame'>\n",
      "RangeIndex: 720 entries, 0 to 719\n",
      "Data columns (total 5 columns):\n",
      " #   Column                  Non-Null Count  Dtype   \n",
      "---  ------                  --------------  -----   \n",
      " 0   Year                    720 non-null    int64   \n",
      " 1   City                    720 non-null    object  \n",
      " 2   Rooms                   720 non-null    category\n",
      " 3   Rent per m2             720 non-null    float64 \n",
      " 4   Rental apartment count  720 non-null    int64   \n",
      "dtypes: category(1), float64(1), int64(2), object(1)\n",
      "memory usage: 23.5+ KB\n"
     ]
    }
   ],
   "source": [
    "rentals_2011_2022_df = pd.concat([rentals_2011_2014_df, rentals_2015_2022_df], axis=0)\n",
    "rentals_2011_2022_df.reset_index(drop=True, inplace=True)\n",
    "\n",
    "rentals_2011_2022_df.info()"
   ]
  },
  {
   "cell_type": "markdown",
   "metadata": {},
   "source": [
    "##### Write to .csv"
   ]
  },
  {
   "cell_type": "code",
   "execution_count": 12,
   "metadata": {},
   "outputs": [],
   "source": [
    "file_path = 'preprocessed_data/preprocessed_rentals_2011-2022.csv'\n",
    "rentals_2011_2022_df.to_csv(file_path, index=False)"
   ]
  },
  {
   "cell_type": "markdown",
   "metadata": {},
   "source": [
    "## Apartment sales data"
   ]
  },
  {
   "cell_type": "code",
   "execution_count": 13,
   "metadata": {},
   "outputs": [
    {
     "data": {
      "text/html": [
       "<div>\n",
       "<style scoped>\n",
       "    .dataframe tbody tr th:only-of-type {\n",
       "        vertical-align: middle;\n",
       "    }\n",
       "\n",
       "    .dataframe tbody tr th {\n",
       "        vertical-align: top;\n",
       "    }\n",
       "\n",
       "    .dataframe thead th {\n",
       "        text-align: right;\n",
       "    }\n",
       "</style>\n",
       "<table border=\"1\" class=\"dataframe\">\n",
       "  <thead>\n",
       "    <tr style=\"text-align: right;\">\n",
       "      <th></th>\n",
       "      <th>Vuosi</th>\n",
       "      <th>Alue</th>\n",
       "      <th>Talotyyppi</th>\n",
       "      <th>Neliöhinta (EUR/m2)</th>\n",
       "      <th>Kauppojen lukumäärä, varainsiirtoverotiedot vuoteen 2019 asti</th>\n",
       "      <th>Kauppojen lukumäärä, varainsiirtoverotiedot vuodesta 2020 alkaen</th>\n",
       "    </tr>\n",
       "  </thead>\n",
       "  <tbody>\n",
       "    <tr>\n",
       "      <th>0</th>\n",
       "      <td>2011</td>\n",
       "      <td>Koko maa</td>\n",
       "      <td>Kerrostalo yksiöt</td>\n",
       "      <td>2760</td>\n",
       "      <td>11680</td>\n",
       "      <td>.</td>\n",
       "    </tr>\n",
       "    <tr>\n",
       "      <th>1</th>\n",
       "      <td>2011</td>\n",
       "      <td>Koko maa</td>\n",
       "      <td>Kerrostalo kaksiot</td>\n",
       "      <td>2242</td>\n",
       "      <td>24538</td>\n",
       "      <td>.</td>\n",
       "    </tr>\n",
       "    <tr>\n",
       "      <th>2</th>\n",
       "      <td>2011</td>\n",
       "      <td>Koko maa</td>\n",
       "      <td>Kerrostalo kolmiot+</td>\n",
       "      <td>2365</td>\n",
       "      <td>16491</td>\n",
       "      <td>.</td>\n",
       "    </tr>\n",
       "    <tr>\n",
       "      <th>3</th>\n",
       "      <td>2011</td>\n",
       "      <td>Pääkaupunkiseutu (PKS)</td>\n",
       "      <td>Kerrostalo yksiöt</td>\n",
       "      <td>4438</td>\n",
       "      <td>3922</td>\n",
       "      <td>.</td>\n",
       "    </tr>\n",
       "    <tr>\n",
       "      <th>4</th>\n",
       "      <td>2011</td>\n",
       "      <td>Pääkaupunkiseutu (PKS)</td>\n",
       "      <td>Kerrostalo kaksiot</td>\n",
       "      <td>3728</td>\n",
       "      <td>7165</td>\n",
       "      <td>.</td>\n",
       "    </tr>\n",
       "  </tbody>\n",
       "</table>\n",
       "</div>"
      ],
      "text/plain": [
       "   Vuosi                    Alue           Talotyyppi Neliöhinta (EUR/m2)  \\\n",
       "0   2011                Koko maa    Kerrostalo yksiöt                2760   \n",
       "1   2011                Koko maa   Kerrostalo kaksiot                2242   \n",
       "2   2011                Koko maa  Kerrostalo kolmiot+                2365   \n",
       "3   2011  Pääkaupunkiseutu (PKS)    Kerrostalo yksiöt                4438   \n",
       "4   2011  Pääkaupunkiseutu (PKS)   Kerrostalo kaksiot                3728   \n",
       "\n",
       "  Kauppojen lukumäärä, varainsiirtoverotiedot vuoteen 2019 asti  \\\n",
       "0                                              11680              \n",
       "1                                              24538              \n",
       "2                                              16491              \n",
       "3                                               3922              \n",
       "4                                               7165              \n",
       "\n",
       "  Kauppojen lukumäärä, varainsiirtoverotiedot vuodesta 2020 alkaen  \n",
       "0                                                  .                \n",
       "1                                                  .                \n",
       "2                                                  .                \n",
       "3                                                  .                \n",
       "4                                                  .                "
      ]
     },
     "execution_count": 13,
     "metadata": {},
     "output_type": "execute_result"
    }
   ],
   "source": [
    "csv_file = 'raw_data/13mw_osakeasunnot_2011-2022.csv'\n",
    "\n",
    "sold_apartments_2011_2022_df = pd.read_csv(csv_file, delimiter=';', encoding='latin1')\n",
    "\n",
    "sold_apartments_2011_2022_df.head()"
   ]
  },
  {
   "cell_type": "markdown",
   "metadata": {},
   "source": [
    "##### Rename columns"
   ]
  },
  {
   "cell_type": "code",
   "execution_count": 14,
   "metadata": {},
   "outputs": [],
   "source": [
    "sold_apartments_2011_2022_df.rename(\n",
    "    columns={\n",
    "        'Vuosi': 'Year',\n",
    "        'Alue': 'City',\n",
    "        'Talotyyppi': 'Rooms', \n",
    "        'Neliöhinta (EUR/m2)': 'Sales price per m2',\n",
    "    }, \n",
    "    inplace=True\n",
    ")"
   ]
  },
  {
   "cell_type": "markdown",
   "metadata": {},
   "source": [
    "##### Filter area"
   ]
  },
  {
   "cell_type": "code",
   "execution_count": 15,
   "metadata": {},
   "outputs": [
    {
     "name": "stdout",
     "output_type": "stream",
     "text": [
      "<class 'pandas.core.frame.DataFrame'>\n",
      "Int64Index: 720 entries, 18 to 3131\n",
      "Data columns (total 6 columns):\n",
      " #   Column                                                            Non-Null Count  Dtype \n",
      "---  ------                                                            --------------  ----- \n",
      " 0   Year                                                              720 non-null    int64 \n",
      " 1   City                                                              720 non-null    object\n",
      " 2   Rooms                                                             720 non-null    object\n",
      " 3   Sales price per m2                                                720 non-null    object\n",
      " 4   Kauppojen lukumäärä, varainsiirtoverotiedot vuoteen 2019 asti     720 non-null    object\n",
      " 5   Kauppojen lukumäärä, varainsiirtoverotiedot vuodesta 2020 alkaen  720 non-null    object\n",
      "dtypes: int64(1), object(5)\n",
      "memory usage: 39.4+ KB\n"
     ]
    }
   ],
   "source": [
    "sold_apartments_2011_2022_df = sold_apartments_2011_2022_df[sold_apartments_2011_2022_df['City'].isin(cities)]\n",
    "\n",
    "sold_apartments_2011_2022_df.info()"
   ]
  },
  {
   "cell_type": "markdown",
   "metadata": {},
   "source": [
    "##### Add sold apartments count"
   ]
  },
  {
   "cell_type": "code",
   "execution_count": 16,
   "metadata": {},
   "outputs": [
    {
     "data": {
      "text/html": [
       "<div>\n",
       "<style scoped>\n",
       "    .dataframe tbody tr th:only-of-type {\n",
       "        vertical-align: middle;\n",
       "    }\n",
       "\n",
       "    .dataframe tbody tr th {\n",
       "        vertical-align: top;\n",
       "    }\n",
       "\n",
       "    .dataframe thead th {\n",
       "        text-align: right;\n",
       "    }\n",
       "</style>\n",
       "<table border=\"1\" class=\"dataframe\">\n",
       "  <thead>\n",
       "    <tr style=\"text-align: right;\">\n",
       "      <th></th>\n",
       "      <th>Year</th>\n",
       "      <th>City</th>\n",
       "      <th>Rooms</th>\n",
       "      <th>Sales price per m2</th>\n",
       "      <th>Sold apartments count</th>\n",
       "    </tr>\n",
       "  </thead>\n",
       "  <tbody>\n",
       "    <tr>\n",
       "      <th>18</th>\n",
       "      <td>2011</td>\n",
       "      <td>Helsinki</td>\n",
       "      <td>Kerrostalo yksiöt</td>\n",
       "      <td>4645</td>\n",
       "      <td>3154</td>\n",
       "    </tr>\n",
       "    <tr>\n",
       "      <th>19</th>\n",
       "      <td>2011</td>\n",
       "      <td>Helsinki</td>\n",
       "      <td>Kerrostalo kaksiot</td>\n",
       "      <td>3966</td>\n",
       "      <td>4973</td>\n",
       "    </tr>\n",
       "    <tr>\n",
       "      <th>20</th>\n",
       "      <td>2011</td>\n",
       "      <td>Helsinki</td>\n",
       "      <td>Kerrostalo kolmiot+</td>\n",
       "      <td>3987</td>\n",
       "      <td>3476</td>\n",
       "    </tr>\n",
       "    <tr>\n",
       "      <th>33</th>\n",
       "      <td>2011</td>\n",
       "      <td>Espoo-Kauniainen</td>\n",
       "      <td>Kerrostalo yksiöt</td>\n",
       "      <td>3525</td>\n",
       "      <td>370</td>\n",
       "    </tr>\n",
       "    <tr>\n",
       "      <th>34</th>\n",
       "      <td>2011</td>\n",
       "      <td>Espoo-Kauniainen</td>\n",
       "      <td>Kerrostalo kaksiot</td>\n",
       "      <td>3209</td>\n",
       "      <td>1085</td>\n",
       "    </tr>\n",
       "  </tbody>\n",
       "</table>\n",
       "</div>"
      ],
      "text/plain": [
       "    Year              City                Rooms Sales price per m2  \\\n",
       "18  2011          Helsinki    Kerrostalo yksiöt               4645   \n",
       "19  2011          Helsinki   Kerrostalo kaksiot               3966   \n",
       "20  2011          Helsinki  Kerrostalo kolmiot+               3987   \n",
       "33  2011  Espoo-Kauniainen    Kerrostalo yksiöt               3525   \n",
       "34  2011  Espoo-Kauniainen   Kerrostalo kaksiot               3209   \n",
       "\n",
       "   Sold apartments count  \n",
       "18                  3154  \n",
       "19                  4973  \n",
       "20                  3476  \n",
       "33                   370  \n",
       "34                  1085  "
      ]
     },
     "execution_count": 16,
     "metadata": {},
     "output_type": "execute_result"
    }
   ],
   "source": [
    "sold_apartments_2011_2022_df['Kauppojen lukumäärä, varainsiirtoverotiedot vuoteen 2019 asti'] = sold_apartments_2011_2022_df['Kauppojen lukumäärä, varainsiirtoverotiedot vuoteen 2019 asti'].replace('.', '')\n",
    "sold_apartments_2011_2022_df['Kauppojen lukumäärä, varainsiirtoverotiedot vuodesta 2020 alkaen'] = sold_apartments_2011_2022_df['Kauppojen lukumäärä, varainsiirtoverotiedot vuodesta 2020 alkaen'].replace('.', '')\n",
    "\n",
    "sold_apartments_2011_2022_df['Sold apartments count'] = sold_apartments_2011_2022_df['Kauppojen lukumäärä, varainsiirtoverotiedot vuoteen 2019 asti'] + sold_apartments_2011_2022_df['Kauppojen lukumäärä, varainsiirtoverotiedot vuodesta 2020 alkaen']\n",
    "\n",
    "sold_apartments_2011_2022_df = sold_apartments_2011_2022_df.drop(['Kauppojen lukumäärä, varainsiirtoverotiedot vuoteen 2019 asti', 'Kauppojen lukumäärä, varainsiirtoverotiedot vuodesta 2020 alkaen'], axis=1)\n",
    "\n",
    "sold_apartments_2011_2022_df.head()"
   ]
  },
  {
   "cell_type": "markdown",
   "metadata": {},
   "source": [
    "##### Categorize number of rooms"
   ]
  },
  {
   "cell_type": "code",
   "execution_count": 17,
   "metadata": {},
   "outputs": [
    {
     "name": "stdout",
     "output_type": "stream",
     "text": [
      "<class 'pandas.core.frame.DataFrame'>\n",
      "Int64Index: 720 entries, 18 to 3131\n",
      "Data columns (total 5 columns):\n",
      " #   Column                 Non-Null Count  Dtype   \n",
      "---  ------                 --------------  -----   \n",
      " 0   Year                   720 non-null    int64   \n",
      " 1   City                   720 non-null    object  \n",
      " 2   Rooms                  720 non-null    category\n",
      " 3   Sales price per m2     720 non-null    object  \n",
      " 4   Sold apartments count  720 non-null    object  \n",
      "dtypes: category(1), int64(1), object(3)\n",
      "memory usage: 29.0+ KB\n"
     ]
    }
   ],
   "source": [
    "category_codes = {'Kerrostalo yksiöt': 1, 'Kerrostalo kaksiot': 2, 'Kerrostalo kolmiot+': 3}\n",
    "sold_apartments_2011_2022_df['Rooms'] = pd.Categorical(sold_apartments_2011_2022_df['Rooms'], categories=category_codes.keys(), ordered=True)\n",
    "sold_apartments_2011_2022_df['Rooms'] = sold_apartments_2011_2022_df['Rooms'].cat.rename_categories(category_codes)\n",
    "\n",
    "sold_apartments_2011_2022_df.info()"
   ]
  },
  {
   "cell_type": "markdown",
   "metadata": {},
   "source": [
    "##### Change types"
   ]
  },
  {
   "cell_type": "code",
   "execution_count": 18,
   "metadata": {},
   "outputs": [
    {
     "data": {
      "text/html": [
       "<div>\n",
       "<style scoped>\n",
       "    .dataframe tbody tr th:only-of-type {\n",
       "        vertical-align: middle;\n",
       "    }\n",
       "\n",
       "    .dataframe tbody tr th {\n",
       "        vertical-align: top;\n",
       "    }\n",
       "\n",
       "    .dataframe thead th {\n",
       "        text-align: right;\n",
       "    }\n",
       "</style>\n",
       "<table border=\"1\" class=\"dataframe\">\n",
       "  <thead>\n",
       "    <tr style=\"text-align: right;\">\n",
       "      <th></th>\n",
       "      <th>Year</th>\n",
       "      <th>City</th>\n",
       "      <th>Rooms</th>\n",
       "      <th>Sales price per m2</th>\n",
       "      <th>Sold apartments count</th>\n",
       "    </tr>\n",
       "  </thead>\n",
       "  <tbody>\n",
       "    <tr>\n",
       "      <th>18</th>\n",
       "      <td>2011</td>\n",
       "      <td>Helsinki</td>\n",
       "      <td>1</td>\n",
       "      <td>4645</td>\n",
       "      <td>3154</td>\n",
       "    </tr>\n",
       "    <tr>\n",
       "      <th>19</th>\n",
       "      <td>2011</td>\n",
       "      <td>Helsinki</td>\n",
       "      <td>2</td>\n",
       "      <td>3966</td>\n",
       "      <td>4973</td>\n",
       "    </tr>\n",
       "    <tr>\n",
       "      <th>20</th>\n",
       "      <td>2011</td>\n",
       "      <td>Helsinki</td>\n",
       "      <td>3</td>\n",
       "      <td>3987</td>\n",
       "      <td>3476</td>\n",
       "    </tr>\n",
       "    <tr>\n",
       "      <th>33</th>\n",
       "      <td>2011</td>\n",
       "      <td>Espoo-Kauniainen</td>\n",
       "      <td>1</td>\n",
       "      <td>3525</td>\n",
       "      <td>370</td>\n",
       "    </tr>\n",
       "    <tr>\n",
       "      <th>34</th>\n",
       "      <td>2011</td>\n",
       "      <td>Espoo-Kauniainen</td>\n",
       "      <td>2</td>\n",
       "      <td>3209</td>\n",
       "      <td>1085</td>\n",
       "    </tr>\n",
       "  </tbody>\n",
       "</table>\n",
       "</div>"
      ],
      "text/plain": [
       "    Year              City Rooms  Sales price per m2  Sold apartments count\n",
       "18  2011          Helsinki     1                4645                   3154\n",
       "19  2011          Helsinki     2                3966                   4973\n",
       "20  2011          Helsinki     3                3987                   3476\n",
       "33  2011  Espoo-Kauniainen     1                3525                    370\n",
       "34  2011  Espoo-Kauniainen     2                3209                   1085"
      ]
     },
     "execution_count": 18,
     "metadata": {},
     "output_type": "execute_result"
    }
   ],
   "source": [
    "sold_apartments_2011_2022_df = sold_apartments_2011_2022_df.astype({'Sales price per m2': int, 'Sold apartments count': int})\n",
    "\n",
    "sold_apartments_2011_2022_df.head()"
   ]
  },
  {
   "cell_type": "code",
   "execution_count": 19,
   "metadata": {},
   "outputs": [
    {
     "name": "stdout",
     "output_type": "stream",
     "text": [
      "<class 'pandas.core.frame.DataFrame'>\n",
      "Int64Index: 720 entries, 18 to 3131\n",
      "Data columns (total 5 columns):\n",
      " #   Column                 Non-Null Count  Dtype   \n",
      "---  ------                 --------------  -----   \n",
      " 0   Year                   720 non-null    int64   \n",
      " 1   City                   720 non-null    object  \n",
      " 2   Rooms                  720 non-null    category\n",
      " 3   Sales price per m2     720 non-null    int64   \n",
      " 4   Sold apartments count  720 non-null    int64   \n",
      "dtypes: category(1), int64(3), object(1)\n",
      "memory usage: 29.0+ KB\n"
     ]
    }
   ],
   "source": [
    "sold_apartments_2011_2022_df.info()"
   ]
  },
  {
   "cell_type": "markdown",
   "metadata": {},
   "source": [
    "##### Write to .csv"
   ]
  },
  {
   "cell_type": "code",
   "execution_count": 20,
   "metadata": {},
   "outputs": [],
   "source": [
    "file_path = 'preprocessed_data/preprocessed_sold_apartments_2011-2022.csv'\n",
    "sold_apartments_2011_2022_df.to_csv(file_path, index=False)"
   ]
  },
  {
   "cell_type": "markdown",
   "metadata": {},
   "source": [
    "## Postal code keys data"
   ]
  },
  {
   "cell_type": "markdown",
   "metadata": {},
   "source": [
    "##### Read .xlsx-file"
   ]
  },
  {
   "cell_type": "code",
   "execution_count": 21,
   "metadata": {},
   "outputs": [
    {
     "data": {
      "text/html": [
       "<div>\n",
       "<style scoped>\n",
       "    .dataframe tbody tr th:only-of-type {\n",
       "        vertical-align: middle;\n",
       "    }\n",
       "\n",
       "    .dataframe tbody tr th {\n",
       "        vertical-align: top;\n",
       "    }\n",
       "\n",
       "    .dataframe thead th {\n",
       "        text-align: right;\n",
       "    }\n",
       "</style>\n",
       "<table border=\"1\" class=\"dataframe\">\n",
       "  <thead>\n",
       "    <tr style=\"text-align: right;\">\n",
       "      <th></th>\n",
       "      <th>Postinumeroalue</th>\n",
       "      <th>Postinumeroalueen nimi</th>\n",
       "      <th>Postinumeroalueen nimi (sv)</th>\n",
       "      <th>Kunta</th>\n",
       "      <th>Kunnan nimi</th>\n",
       "      <th>Kuntaryhmä</th>\n",
       "      <th>Kuntaryhmän nimi</th>\n",
       "      <th>Seutukunta</th>\n",
       "      <th>Seutukunnan nimi</th>\n",
       "      <th>Maakunta</th>\n",
       "      <th>...</th>\n",
       "      <th>Suuralue</th>\n",
       "      <th>Suuralueen nimi</th>\n",
       "      <th>AVI</th>\n",
       "      <th>AVI:n nimi</th>\n",
       "      <th>ELY</th>\n",
       "      <th>ELY:n nimi</th>\n",
       "      <th>Hyvinvointialue</th>\n",
       "      <th>Hyvinvointialueen nimi</th>\n",
       "      <th>Vaalipiiri</th>\n",
       "      <th>Vaalipiirin nimi</th>\n",
       "    </tr>\n",
       "  </thead>\n",
       "  <tbody>\n",
       "    <tr>\n",
       "      <th>0</th>\n",
       "      <td>100</td>\n",
       "      <td>Helsinki keskusta - Etu-Töölö</td>\n",
       "      <td>Helsingfors centrum - Främre Tölö</td>\n",
       "      <td>91</td>\n",
       "      <td>Helsinki</td>\n",
       "      <td>1</td>\n",
       "      <td>Kaupunkimaiset kunnat</td>\n",
       "      <td>11</td>\n",
       "      <td>Helsingin seutukunta</td>\n",
       "      <td>1</td>\n",
       "      <td>...</td>\n",
       "      <td>1</td>\n",
       "      <td>Helsinki-Uusimaa</td>\n",
       "      <td>1</td>\n",
       "      <td>Etelä-Suomen AVI</td>\n",
       "      <td>1</td>\n",
       "      <td>Uudenmaan ELY-keskus</td>\n",
       "      <td>90</td>\n",
       "      <td>Helsingin kaupunki</td>\n",
       "      <td>1</td>\n",
       "      <td>Helsingin vaalipiiri</td>\n",
       "    </tr>\n",
       "    <tr>\n",
       "      <th>1</th>\n",
       "      <td>120</td>\n",
       "      <td>Punavuori - Bulevardi</td>\n",
       "      <td>Rödbergen - Bulevarden</td>\n",
       "      <td>91</td>\n",
       "      <td>Helsinki</td>\n",
       "      <td>1</td>\n",
       "      <td>Kaupunkimaiset kunnat</td>\n",
       "      <td>11</td>\n",
       "      <td>Helsingin seutukunta</td>\n",
       "      <td>1</td>\n",
       "      <td>...</td>\n",
       "      <td>1</td>\n",
       "      <td>Helsinki-Uusimaa</td>\n",
       "      <td>1</td>\n",
       "      <td>Etelä-Suomen AVI</td>\n",
       "      <td>1</td>\n",
       "      <td>Uudenmaan ELY-keskus</td>\n",
       "      <td>90</td>\n",
       "      <td>Helsingin kaupunki</td>\n",
       "      <td>1</td>\n",
       "      <td>Helsingin vaalipiiri</td>\n",
       "    </tr>\n",
       "    <tr>\n",
       "      <th>2</th>\n",
       "      <td>130</td>\n",
       "      <td>Kaartinkaupunki</td>\n",
       "      <td>Gardesstaden</td>\n",
       "      <td>91</td>\n",
       "      <td>Helsinki</td>\n",
       "      <td>1</td>\n",
       "      <td>Kaupunkimaiset kunnat</td>\n",
       "      <td>11</td>\n",
       "      <td>Helsingin seutukunta</td>\n",
       "      <td>1</td>\n",
       "      <td>...</td>\n",
       "      <td>1</td>\n",
       "      <td>Helsinki-Uusimaa</td>\n",
       "      <td>1</td>\n",
       "      <td>Etelä-Suomen AVI</td>\n",
       "      <td>1</td>\n",
       "      <td>Uudenmaan ELY-keskus</td>\n",
       "      <td>90</td>\n",
       "      <td>Helsingin kaupunki</td>\n",
       "      <td>1</td>\n",
       "      <td>Helsingin vaalipiiri</td>\n",
       "    </tr>\n",
       "    <tr>\n",
       "      <th>3</th>\n",
       "      <td>140</td>\n",
       "      <td>Kaivopuisto - Ullanlinna</td>\n",
       "      <td>Brunnsparken - Ulrikasborg</td>\n",
       "      <td>91</td>\n",
       "      <td>Helsinki</td>\n",
       "      <td>1</td>\n",
       "      <td>Kaupunkimaiset kunnat</td>\n",
       "      <td>11</td>\n",
       "      <td>Helsingin seutukunta</td>\n",
       "      <td>1</td>\n",
       "      <td>...</td>\n",
       "      <td>1</td>\n",
       "      <td>Helsinki-Uusimaa</td>\n",
       "      <td>1</td>\n",
       "      <td>Etelä-Suomen AVI</td>\n",
       "      <td>1</td>\n",
       "      <td>Uudenmaan ELY-keskus</td>\n",
       "      <td>90</td>\n",
       "      <td>Helsingin kaupunki</td>\n",
       "      <td>1</td>\n",
       "      <td>Helsingin vaalipiiri</td>\n",
       "    </tr>\n",
       "    <tr>\n",
       "      <th>4</th>\n",
       "      <td>150</td>\n",
       "      <td>Punavuori - Eira - Hernesaari</td>\n",
       "      <td>Rödbergen - Eira - Ärtholmen</td>\n",
       "      <td>91</td>\n",
       "      <td>Helsinki</td>\n",
       "      <td>1</td>\n",
       "      <td>Kaupunkimaiset kunnat</td>\n",
       "      <td>11</td>\n",
       "      <td>Helsingin seutukunta</td>\n",
       "      <td>1</td>\n",
       "      <td>...</td>\n",
       "      <td>1</td>\n",
       "      <td>Helsinki-Uusimaa</td>\n",
       "      <td>1</td>\n",
       "      <td>Etelä-Suomen AVI</td>\n",
       "      <td>1</td>\n",
       "      <td>Uudenmaan ELY-keskus</td>\n",
       "      <td>90</td>\n",
       "      <td>Helsingin kaupunki</td>\n",
       "      <td>1</td>\n",
       "      <td>Helsingin vaalipiiri</td>\n",
       "    </tr>\n",
       "  </tbody>\n",
       "</table>\n",
       "<p>5 rows × 21 columns</p>\n",
       "</div>"
      ],
      "text/plain": [
       "   Postinumeroalue         Postinumeroalueen nimi  \\\n",
       "0              100  Helsinki keskusta - Etu-Töölö   \n",
       "1              120          Punavuori - Bulevardi   \n",
       "2              130                Kaartinkaupunki   \n",
       "3              140       Kaivopuisto - Ullanlinna   \n",
       "4              150  Punavuori - Eira - Hernesaari   \n",
       "\n",
       "         Postinumeroalueen nimi (sv)  Kunta Kunnan nimi  Kuntaryhmä  \\\n",
       "0  Helsingfors centrum - Främre Tölö     91    Helsinki           1   \n",
       "1             Rödbergen - Bulevarden     91    Helsinki           1   \n",
       "2                       Gardesstaden     91    Helsinki           1   \n",
       "3         Brunnsparken - Ulrikasborg     91    Helsinki           1   \n",
       "4       Rödbergen - Eira - Ärtholmen     91    Helsinki           1   \n",
       "\n",
       "        Kuntaryhmän nimi  Seutukunta      Seutukunnan nimi  Maakunta  ...  \\\n",
       "0  Kaupunkimaiset kunnat          11  Helsingin seutukunta         1  ...   \n",
       "1  Kaupunkimaiset kunnat          11  Helsingin seutukunta         1  ...   \n",
       "2  Kaupunkimaiset kunnat          11  Helsingin seutukunta         1  ...   \n",
       "3  Kaupunkimaiset kunnat          11  Helsingin seutukunta         1  ...   \n",
       "4  Kaupunkimaiset kunnat          11  Helsingin seutukunta         1  ...   \n",
       "\n",
       "  Suuralue   Suuralueen nimi AVI        AVI:n nimi ELY            ELY:n nimi  \\\n",
       "0        1  Helsinki-Uusimaa   1  Etelä-Suomen AVI   1  Uudenmaan ELY-keskus   \n",
       "1        1  Helsinki-Uusimaa   1  Etelä-Suomen AVI   1  Uudenmaan ELY-keskus   \n",
       "2        1  Helsinki-Uusimaa   1  Etelä-Suomen AVI   1  Uudenmaan ELY-keskus   \n",
       "3        1  Helsinki-Uusimaa   1  Etelä-Suomen AVI   1  Uudenmaan ELY-keskus   \n",
       "4        1  Helsinki-Uusimaa   1  Etelä-Suomen AVI   1  Uudenmaan ELY-keskus   \n",
       "\n",
       "  Hyvinvointialue  Hyvinvointialueen nimi Vaalipiiri      Vaalipiirin nimi  \n",
       "0              90      Helsingin kaupunki          1  Helsingin vaalipiiri  \n",
       "1              90      Helsingin kaupunki          1  Helsingin vaalipiiri  \n",
       "2              90      Helsingin kaupunki          1  Helsingin vaalipiiri  \n",
       "3              90      Helsingin kaupunki          1  Helsingin vaalipiiri  \n",
       "4              90      Helsingin kaupunki          1  Helsingin vaalipiiri  \n",
       "\n",
       "[5 rows x 21 columns]"
      ]
     },
     "execution_count": 21,
     "metadata": {},
     "output_type": "execute_result"
    }
   ],
   "source": [
    "postal_raw_df = pd.read_excel('raw_data/postinumerot.xlsx', skiprows=2)\n",
    "\n",
    "postal_raw_df.head()"
   ]
  },
  {
   "cell_type": "code",
   "execution_count": 22,
   "metadata": {},
   "outputs": [
    {
     "name": "stdout",
     "output_type": "stream",
     "text": [
      "<class 'pandas.core.frame.DataFrame'>\n",
      "RangeIndex: 3026 entries, 0 to 3025\n",
      "Data columns (total 21 columns):\n",
      " #   Column                       Non-Null Count  Dtype \n",
      "---  ------                       --------------  ----- \n",
      " 0   Postinumeroalue              3026 non-null   int64 \n",
      " 1   Postinumeroalueen nimi       3026 non-null   object\n",
      " 2   Postinumeroalueen nimi (sv)  3026 non-null   object\n",
      " 3   Kunta                        3026 non-null   int64 \n",
      " 4   Kunnan nimi                  3026 non-null   object\n",
      " 5   Kuntaryhmä                   3026 non-null   int64 \n",
      " 6   Kuntaryhmän nimi             3026 non-null   object\n",
      " 7   Seutukunta                   3026 non-null   int64 \n",
      " 8   Seutukunnan nimi             3026 non-null   object\n",
      " 9   Maakunta                     3026 non-null   int64 \n",
      " 10  Maakunnan nimi               3026 non-null   object\n",
      " 11  Suuralue                     3026 non-null   int64 \n",
      " 12  Suuralueen nimi              3026 non-null   object\n",
      " 13  AVI                          3026 non-null   int64 \n",
      " 14  AVI:n nimi                   3026 non-null   object\n",
      " 15  ELY                          3026 non-null   int64 \n",
      " 16  ELY:n nimi                   3026 non-null   object\n",
      " 17  Hyvinvointialue              3026 non-null   int64 \n",
      " 18  Hyvinvointialueen nimi       3026 non-null   object\n",
      " 19  Vaalipiiri                   3026 non-null   int64 \n",
      " 20  Vaalipiirin nimi             3026 non-null   object\n",
      "dtypes: int64(10), object(11)\n",
      "memory usage: 496.6+ KB\n"
     ]
    }
   ],
   "source": [
    "postal_raw_df.info()"
   ]
  },
  {
   "cell_type": "markdown",
   "metadata": {},
   "source": [
    "##### Select & rename columns"
   ]
  },
  {
   "cell_type": "code",
   "execution_count": 23,
   "metadata": {},
   "outputs": [
    {
     "data": {
      "text/html": [
       "<div>\n",
       "<style scoped>\n",
       "    .dataframe tbody tr th:only-of-type {\n",
       "        vertical-align: middle;\n",
       "    }\n",
       "\n",
       "    .dataframe tbody tr th {\n",
       "        vertical-align: top;\n",
       "    }\n",
       "\n",
       "    .dataframe thead th {\n",
       "        text-align: right;\n",
       "    }\n",
       "</style>\n",
       "<table border=\"1\" class=\"dataframe\">\n",
       "  <thead>\n",
       "    <tr style=\"text-align: right;\">\n",
       "      <th></th>\n",
       "      <th>Postal code</th>\n",
       "      <th>Postal code name</th>\n",
       "      <th>Municipality</th>\n",
       "      <th>Municipality name</th>\n",
       "      <th>Municipality group</th>\n",
       "      <th>Municipality group name</th>\n",
       "      <th>Region</th>\n",
       "      <th>Region name</th>\n",
       "      <th>Area</th>\n",
       "      <th>Area name</th>\n",
       "    </tr>\n",
       "  </thead>\n",
       "  <tbody>\n",
       "    <tr>\n",
       "      <th>0</th>\n",
       "      <td>100</td>\n",
       "      <td>Helsinki keskusta - Etu-Töölö</td>\n",
       "      <td>91</td>\n",
       "      <td>Helsinki</td>\n",
       "      <td>1</td>\n",
       "      <td>Kaupunkimaiset kunnat</td>\n",
       "      <td>1</td>\n",
       "      <td>Uusimaa</td>\n",
       "      <td>1</td>\n",
       "      <td>Helsinki-Uusimaa</td>\n",
       "    </tr>\n",
       "    <tr>\n",
       "      <th>1</th>\n",
       "      <td>120</td>\n",
       "      <td>Punavuori - Bulevardi</td>\n",
       "      <td>91</td>\n",
       "      <td>Helsinki</td>\n",
       "      <td>1</td>\n",
       "      <td>Kaupunkimaiset kunnat</td>\n",
       "      <td>1</td>\n",
       "      <td>Uusimaa</td>\n",
       "      <td>1</td>\n",
       "      <td>Helsinki-Uusimaa</td>\n",
       "    </tr>\n",
       "    <tr>\n",
       "      <th>2</th>\n",
       "      <td>130</td>\n",
       "      <td>Kaartinkaupunki</td>\n",
       "      <td>91</td>\n",
       "      <td>Helsinki</td>\n",
       "      <td>1</td>\n",
       "      <td>Kaupunkimaiset kunnat</td>\n",
       "      <td>1</td>\n",
       "      <td>Uusimaa</td>\n",
       "      <td>1</td>\n",
       "      <td>Helsinki-Uusimaa</td>\n",
       "    </tr>\n",
       "    <tr>\n",
       "      <th>3</th>\n",
       "      <td>140</td>\n",
       "      <td>Kaivopuisto - Ullanlinna</td>\n",
       "      <td>91</td>\n",
       "      <td>Helsinki</td>\n",
       "      <td>1</td>\n",
       "      <td>Kaupunkimaiset kunnat</td>\n",
       "      <td>1</td>\n",
       "      <td>Uusimaa</td>\n",
       "      <td>1</td>\n",
       "      <td>Helsinki-Uusimaa</td>\n",
       "    </tr>\n",
       "    <tr>\n",
       "      <th>4</th>\n",
       "      <td>150</td>\n",
       "      <td>Punavuori - Eira - Hernesaari</td>\n",
       "      <td>91</td>\n",
       "      <td>Helsinki</td>\n",
       "      <td>1</td>\n",
       "      <td>Kaupunkimaiset kunnat</td>\n",
       "      <td>1</td>\n",
       "      <td>Uusimaa</td>\n",
       "      <td>1</td>\n",
       "      <td>Helsinki-Uusimaa</td>\n",
       "    </tr>\n",
       "  </tbody>\n",
       "</table>\n",
       "</div>"
      ],
      "text/plain": [
       "   Postal code               Postal code name  Municipality Municipality name  \\\n",
       "0          100  Helsinki keskusta - Etu-Töölö            91          Helsinki   \n",
       "1          120          Punavuori - Bulevardi            91          Helsinki   \n",
       "2          130                Kaartinkaupunki            91          Helsinki   \n",
       "3          140       Kaivopuisto - Ullanlinna            91          Helsinki   \n",
       "4          150  Punavuori - Eira - Hernesaari            91          Helsinki   \n",
       "\n",
       "   Municipality group Municipality group name  Region Region name  Area  \\\n",
       "0                   1   Kaupunkimaiset kunnat       1     Uusimaa     1   \n",
       "1                   1   Kaupunkimaiset kunnat       1     Uusimaa     1   \n",
       "2                   1   Kaupunkimaiset kunnat       1     Uusimaa     1   \n",
       "3                   1   Kaupunkimaiset kunnat       1     Uusimaa     1   \n",
       "4                   1   Kaupunkimaiset kunnat       1     Uusimaa     1   \n",
       "\n",
       "          Area name  \n",
       "0  Helsinki-Uusimaa  \n",
       "1  Helsinki-Uusimaa  \n",
       "2  Helsinki-Uusimaa  \n",
       "3  Helsinki-Uusimaa  \n",
       "4  Helsinki-Uusimaa  "
      ]
     },
     "execution_count": 23,
     "metadata": {},
     "output_type": "execute_result"
    }
   ],
   "source": [
    "postal_df = postal_raw_df[[\n",
    "    'Postinumeroalue', \n",
    "    'Postinumeroalueen nimi', \n",
    "    'Kunta', \n",
    "    'Kunnan nimi', \n",
    "    'Kuntaryhmä',\n",
    "    'Kuntaryhmän nimi',\n",
    "    'Maakunta',\n",
    "    'Maakunnan nimi',\n",
    "    'Suuralue',\n",
    "    'Suuralueen nimi'\n",
    "]].copy()\n",
    "\n",
    "postal_df.rename(\n",
    "    columns={\n",
    "        'Postinumeroalue': 'Postal code',\n",
    "        'Postinumeroalueen nimi': 'Postal code name', \n",
    "        'Kunta': 'Municipality', \n",
    "        'Kunnan nimi': 'Municipality name', \n",
    "        'Kuntaryhmä': 'Municipality group',\n",
    "        'Kuntaryhmän nimi': 'Municipality group name',\n",
    "        'Maakunta': 'Region',\n",
    "        'Maakunnan nimi': 'Region name',\n",
    "        'Suuralue': 'Area',\n",
    "        'Suuralueen nimi': 'Area name'\n",
    "    },\n",
    "    inplace=True\n",
    ")\n",
    "\n",
    "postal_df.head()"
   ]
  },
  {
   "cell_type": "markdown",
   "metadata": {},
   "source": [
    "##### Write to .csv"
   ]
  },
  {
   "cell_type": "code",
   "execution_count": 24,
   "metadata": {},
   "outputs": [],
   "source": [
    "file_path = 'preprocessed_data/preprocessed_postal_codes.csv'\n",
    "postal_df.to_csv(file_path, index=False)"
   ]
  },
  {
   "cell_type": "markdown",
   "metadata": {},
   "source": [
    "# Merge apartment data 2011-2022"
   ]
  },
  {
   "cell_type": "code",
   "execution_count": 25,
   "metadata": {},
   "outputs": [
    {
     "data": {
      "text/html": [
       "<div>\n",
       "<style scoped>\n",
       "    .dataframe tbody tr th:only-of-type {\n",
       "        vertical-align: middle;\n",
       "    }\n",
       "\n",
       "    .dataframe tbody tr th {\n",
       "        vertical-align: top;\n",
       "    }\n",
       "\n",
       "    .dataframe thead th {\n",
       "        text-align: right;\n",
       "    }\n",
       "</style>\n",
       "<table border=\"1\" class=\"dataframe\">\n",
       "  <thead>\n",
       "    <tr style=\"text-align: right;\">\n",
       "      <th></th>\n",
       "      <th>Year</th>\n",
       "      <th>City</th>\n",
       "      <th>Rooms</th>\n",
       "      <th>Rent per m2</th>\n",
       "      <th>Rental apartment count</th>\n",
       "      <th>Sales price per m2</th>\n",
       "      <th>Sold apartments count</th>\n",
       "    </tr>\n",
       "  </thead>\n",
       "  <tbody>\n",
       "    <tr>\n",
       "      <th>0</th>\n",
       "      <td>2011</td>\n",
       "      <td>Helsinki</td>\n",
       "      <td>1</td>\n",
       "      <td>18.83</td>\n",
       "      <td>9050</td>\n",
       "      <td>4645</td>\n",
       "      <td>3154</td>\n",
       "    </tr>\n",
       "    <tr>\n",
       "      <th>1</th>\n",
       "      <td>2011</td>\n",
       "      <td>Helsinki</td>\n",
       "      <td>2</td>\n",
       "      <td>14.20</td>\n",
       "      <td>5949</td>\n",
       "      <td>3966</td>\n",
       "      <td>4973</td>\n",
       "    </tr>\n",
       "    <tr>\n",
       "      <th>2</th>\n",
       "      <td>2011</td>\n",
       "      <td>Helsinki</td>\n",
       "      <td>3</td>\n",
       "      <td>12.22</td>\n",
       "      <td>2181</td>\n",
       "      <td>3987</td>\n",
       "      <td>3476</td>\n",
       "    </tr>\n",
       "    <tr>\n",
       "      <th>3</th>\n",
       "      <td>2011</td>\n",
       "      <td>Espoo-Kauniainen</td>\n",
       "      <td>1</td>\n",
       "      <td>15.72</td>\n",
       "      <td>1217</td>\n",
       "      <td>3525</td>\n",
       "      <td>370</td>\n",
       "    </tr>\n",
       "    <tr>\n",
       "      <th>4</th>\n",
       "      <td>2011</td>\n",
       "      <td>Espoo-Kauniainen</td>\n",
       "      <td>2</td>\n",
       "      <td>13.88</td>\n",
       "      <td>1318</td>\n",
       "      <td>3209</td>\n",
       "      <td>1085</td>\n",
       "    </tr>\n",
       "  </tbody>\n",
       "</table>\n",
       "</div>"
      ],
      "text/plain": [
       "   Year              City Rooms  Rent per m2  Rental apartment count  \\\n",
       "0  2011          Helsinki     1        18.83                    9050   \n",
       "1  2011          Helsinki     2        14.20                    5949   \n",
       "2  2011          Helsinki     3        12.22                    2181   \n",
       "3  2011  Espoo-Kauniainen     1        15.72                    1217   \n",
       "4  2011  Espoo-Kauniainen     2        13.88                    1318   \n",
       "\n",
       "   Sales price per m2  Sold apartments count  \n",
       "0                4645                   3154  \n",
       "1                3966                   4973  \n",
       "2                3987                   3476  \n",
       "3                3525                    370  \n",
       "4                3209                   1085  "
      ]
     },
     "execution_count": 25,
     "metadata": {},
     "output_type": "execute_result"
    }
   ],
   "source": [
    "merged_apartment_df = pd.merge(rentals_2011_2022_df, sold_apartments_2011_2022_df, on=['Year', 'City', 'Rooms'], how='outer')\n",
    "merged_apartment_df = merged_apartment_df.reset_index(drop=True)\n",
    "\n",
    "merged_apartment_df.head()"
   ]
  },
  {
   "cell_type": "code",
   "execution_count": 26,
   "metadata": {},
   "outputs": [
    {
     "name": "stdout",
     "output_type": "stream",
     "text": [
      "<class 'pandas.core.frame.DataFrame'>\n",
      "RangeIndex: 720 entries, 0 to 719\n",
      "Data columns (total 7 columns):\n",
      " #   Column                  Non-Null Count  Dtype   \n",
      "---  ------                  --------------  -----   \n",
      " 0   Year                    720 non-null    int64   \n",
      " 1   City                    720 non-null    object  \n",
      " 2   Rooms                   720 non-null    category\n",
      " 3   Rent per m2             720 non-null    float64 \n",
      " 4   Rental apartment count  720 non-null    int64   \n",
      " 5   Sales price per m2      720 non-null    int64   \n",
      " 6   Sold apartments count   720 non-null    int64   \n",
      "dtypes: category(1), float64(1), int64(4), object(1)\n",
      "memory usage: 34.7+ KB\n"
     ]
    }
   ],
   "source": [
    "merged_apartment_df.info()"
   ]
  },
  {
   "cell_type": "markdown",
   "metadata": {},
   "source": [
    "##### Write to .csv"
   ]
  },
  {
   "cell_type": "code",
   "execution_count": 27,
   "metadata": {},
   "outputs": [],
   "source": [
    "file_path = 'preprocessed_data/preprocessed_merged_apartments_2011-2022.csv'\n",
    "merged_apartment_df.to_csv(file_path, index=False)"
   ]
  },
  {
   "cell_type": "markdown",
   "metadata": {},
   "source": [
    "# Preprocessing of population & population forecast data"
   ]
  },
  {
   "cell_type": "markdown",
   "metadata": {},
   "source": [
    "## Population data"
   ]
  },
  {
   "cell_type": "markdown",
   "metadata": {},
   "source": [
    "##### Read .csv-file"
   ]
  },
  {
   "cell_type": "code",
   "execution_count": 28,
   "metadata": {},
   "outputs": [
    {
     "data": {
      "text/html": [
       "<div>\n",
       "<style scoped>\n",
       "    .dataframe tbody tr th:only-of-type {\n",
       "        vertical-align: middle;\n",
       "    }\n",
       "\n",
       "    .dataframe tbody tr th {\n",
       "        vertical-align: top;\n",
       "    }\n",
       "\n",
       "    .dataframe thead th {\n",
       "        text-align: right;\n",
       "    }\n",
       "</style>\n",
       "<table border=\"1\" class=\"dataframe\">\n",
       "  <thead>\n",
       "    <tr style=\"text-align: right;\">\n",
       "      <th></th>\n",
       "      <th>Alue</th>\n",
       "      <th>Vuosi</th>\n",
       "      <th>Yhteensä Keskiväkiluku</th>\n",
       "      <th>0 - 14 Keskiväkiluku</th>\n",
       "      <th>15 - 24 Keskiväkiluku</th>\n",
       "      <th>25 - 44 Keskiväkiluku</th>\n",
       "      <th>45 - 64 Keskiväkiluku</th>\n",
       "      <th>65 - 74 Keskiväkiluku</th>\n",
       "      <th>75 - Keskiväkiluku</th>\n",
       "    </tr>\n",
       "  </thead>\n",
       "  <tbody>\n",
       "    <tr>\n",
       "      <th>0</th>\n",
       "      <td>Akaa</td>\n",
       "      <td>1981</td>\n",
       "      <td>15768.5</td>\n",
       "      <td>3098.5</td>\n",
       "      <td>2392.0</td>\n",
       "      <td>4578.0</td>\n",
       "      <td>3522.0</td>\n",
       "      <td>1449.0</td>\n",
       "      <td>729.0</td>\n",
       "    </tr>\n",
       "    <tr>\n",
       "      <th>1</th>\n",
       "      <td>Akaa</td>\n",
       "      <td>1982</td>\n",
       "      <td>15752.0</td>\n",
       "      <td>3081.0</td>\n",
       "      <td>2335.5</td>\n",
       "      <td>4635.5</td>\n",
       "      <td>3497.5</td>\n",
       "      <td>1432.0</td>\n",
       "      <td>770.5</td>\n",
       "    </tr>\n",
       "    <tr>\n",
       "      <th>2</th>\n",
       "      <td>Akaa</td>\n",
       "      <td>1983</td>\n",
       "      <td>15727.5</td>\n",
       "      <td>3045.5</td>\n",
       "      <td>2309.0</td>\n",
       "      <td>4673.0</td>\n",
       "      <td>3482.5</td>\n",
       "      <td>1402.0</td>\n",
       "      <td>815.5</td>\n",
       "    </tr>\n",
       "    <tr>\n",
       "      <th>3</th>\n",
       "      <td>Akaa</td>\n",
       "      <td>1984</td>\n",
       "      <td>15731.0</td>\n",
       "      <td>3019.0</td>\n",
       "      <td>2283.0</td>\n",
       "      <td>4723.5</td>\n",
       "      <td>3480.0</td>\n",
       "      <td>1360.0</td>\n",
       "      <td>865.5</td>\n",
       "    </tr>\n",
       "    <tr>\n",
       "      <th>4</th>\n",
       "      <td>Akaa</td>\n",
       "      <td>1985</td>\n",
       "      <td>15696.0</td>\n",
       "      <td>2977.0</td>\n",
       "      <td>2255.0</td>\n",
       "      <td>4741.0</td>\n",
       "      <td>3478.0</td>\n",
       "      <td>1331.5</td>\n",
       "      <td>913.5</td>\n",
       "    </tr>\n",
       "  </tbody>\n",
       "</table>\n",
       "</div>"
      ],
      "text/plain": [
       "   Alue  Vuosi  Yhteensä Keskiväkiluku  0 - 14 Keskiväkiluku  \\\n",
       "0  Akaa   1981                 15768.5                3098.5   \n",
       "1  Akaa   1982                 15752.0                3081.0   \n",
       "2  Akaa   1983                 15727.5                3045.5   \n",
       "3  Akaa   1984                 15731.0                3019.0   \n",
       "4  Akaa   1985                 15696.0                2977.0   \n",
       "\n",
       "   15 - 24 Keskiväkiluku  25 - 44 Keskiväkiluku  45 - 64 Keskiväkiluku  \\\n",
       "0                 2392.0                 4578.0                 3522.0   \n",
       "1                 2335.5                 4635.5                 3497.5   \n",
       "2                 2309.0                 4673.0                 3482.5   \n",
       "3                 2283.0                 4723.5                 3480.0   \n",
       "4                 2255.0                 4741.0                 3478.0   \n",
       "\n",
       "   65 - 74 Keskiväkiluku  75 - Keskiväkiluku  \n",
       "0                 1449.0               729.0  \n",
       "1                 1432.0               770.5  \n",
       "2                 1402.0               815.5  \n",
       "3                 1360.0               865.5  \n",
       "4                 1331.5               913.5  "
      ]
     },
     "execution_count": 28,
     "metadata": {},
     "output_type": "execute_result"
    }
   ],
   "source": [
    "csv_file = 'raw_data/11s1_keskiväkiluku.csv'\n",
    "\n",
    "population_raw_df = pd.read_csv(csv_file, delimiter=';', encoding='latin1')\n",
    "\n",
    "population_raw_df.head()"
   ]
  },
  {
   "cell_type": "markdown",
   "metadata": {},
   "source": [
    "##### Rename columns"
   ]
  },
  {
   "cell_type": "code",
   "execution_count": 29,
   "metadata": {},
   "outputs": [
    {
     "name": "stdout",
     "output_type": "stream",
     "text": [
      "<class 'pandas.core.frame.DataFrame'>\n",
      "RangeIndex: 12978 entries, 0 to 12977\n",
      "Data columns (total 9 columns):\n",
      " #   Column             Non-Null Count  Dtype  \n",
      "---  ------             --------------  -----  \n",
      " 0   Municipality name  12978 non-null  object \n",
      " 1   Year               12978 non-null  int64  \n",
      " 2   Total population   12978 non-null  float64\n",
      " 3   0 - 14             12978 non-null  float64\n",
      " 4   15 - 24            12978 non-null  float64\n",
      " 5   25 - 44            12978 non-null  float64\n",
      " 6   45 - 64            12978 non-null  float64\n",
      " 7   65 - 74            12978 non-null  float64\n",
      " 8   75 -               12978 non-null  float64\n",
      "dtypes: float64(7), int64(1), object(1)\n",
      "memory usage: 912.6+ KB\n"
     ]
    }
   ],
   "source": [
    "population_raw_df.rename(\n",
    "    columns={\n",
    "        'Alue': 'Municipality name', \n",
    "        'Vuosi': 'Year',\n",
    "        'Yhteensä Keskiväkiluku': 'Total population',\n",
    "        '0 - 14 Keskiväkiluku': '0 - 14',\n",
    "        '15 - 24 Keskiväkiluku': '15 - 24',\n",
    "        '25 - 44 Keskiväkiluku': '25 - 44',\n",
    "        '45 - 64 Keskiväkiluku': '45 - 64',\n",
    "        '65 - 74 Keskiväkiluku': '65 - 74',\n",
    "        '75 - Keskiväkiluku': '75 -',\n",
    "    },\n",
    "    inplace=True\n",
    ")\n",
    "\n",
    "population_raw_df.info()"
   ]
  },
  {
   "cell_type": "markdown",
   "metadata": {},
   "source": [
    "##### Write to .csv"
   ]
  },
  {
   "cell_type": "code",
   "execution_count": 30,
   "metadata": {},
   "outputs": [],
   "source": [
    "file_path = 'preprocessed_data/preprocessed_population.csv'\n",
    "population_raw_df.to_csv(file_path, index=False)"
   ]
  },
  {
   "cell_type": "markdown",
   "metadata": {},
   "source": [
    "## Population forecast data"
   ]
  },
  {
   "cell_type": "markdown",
   "metadata": {},
   "source": [
    "##### Read .csv-file"
   ]
  },
  {
   "cell_type": "code",
   "execution_count": 31,
   "metadata": {},
   "outputs": [
    {
     "data": {
      "text/html": [
       "<div>\n",
       "<style scoped>\n",
       "    .dataframe tbody tr th:only-of-type {\n",
       "        vertical-align: middle;\n",
       "    }\n",
       "\n",
       "    .dataframe tbody tr th {\n",
       "        vertical-align: top;\n",
       "    }\n",
       "\n",
       "    .dataframe thead th {\n",
       "        text-align: right;\n",
       "    }\n",
       "</style>\n",
       "<table border=\"1\" class=\"dataframe\">\n",
       "  <thead>\n",
       "    <tr style=\"text-align: right;\">\n",
       "      <th></th>\n",
       "      <th>Alue</th>\n",
       "      <th>Vuosi</th>\n",
       "      <th>Yhteensä Väestö 31.12. (ennuste 2021)</th>\n",
       "      <th>0 - 14 Väestö 31.12. (ennuste 2021)</th>\n",
       "      <th>15 - 24 Väestö 31.12. (ennuste 2021)</th>\n",
       "      <th>25 - 44 Väestö 31.12. (ennuste 2021)</th>\n",
       "      <th>45 - 64 Väestö 31.12. (ennuste 2021)</th>\n",
       "      <th>65 - 74 Väestö 31.12. (ennuste 2021)</th>\n",
       "      <th>75 - Väestö 31.12. (ennuste 2021)</th>\n",
       "    </tr>\n",
       "  </thead>\n",
       "  <tbody>\n",
       "    <tr>\n",
       "      <th>0</th>\n",
       "      <td>Akaa</td>\n",
       "      <td>2021</td>\n",
       "      <td>16264</td>\n",
       "      <td>2628</td>\n",
       "      <td>1479</td>\n",
       "      <td>3621</td>\n",
       "      <td>4482</td>\n",
       "      <td>2368</td>\n",
       "      <td>1686</td>\n",
       "    </tr>\n",
       "    <tr>\n",
       "      <th>1</th>\n",
       "      <td>Akaa</td>\n",
       "      <td>2022</td>\n",
       "      <td>16142</td>\n",
       "      <td>2519</td>\n",
       "      <td>1489</td>\n",
       "      <td>3534</td>\n",
       "      <td>4468</td>\n",
       "      <td>2357</td>\n",
       "      <td>1775</td>\n",
       "    </tr>\n",
       "    <tr>\n",
       "      <th>2</th>\n",
       "      <td>Akaa</td>\n",
       "      <td>2023</td>\n",
       "      <td>16023</td>\n",
       "      <td>2438</td>\n",
       "      <td>1473</td>\n",
       "      <td>3448</td>\n",
       "      <td>4478</td>\n",
       "      <td>2283</td>\n",
       "      <td>1903</td>\n",
       "    </tr>\n",
       "    <tr>\n",
       "      <th>3</th>\n",
       "      <td>Akaa</td>\n",
       "      <td>2024</td>\n",
       "      <td>15906</td>\n",
       "      <td>2356</td>\n",
       "      <td>1451</td>\n",
       "      <td>3394</td>\n",
       "      <td>4461</td>\n",
       "      <td>2244</td>\n",
       "      <td>2000</td>\n",
       "    </tr>\n",
       "    <tr>\n",
       "      <th>4</th>\n",
       "      <td>Akaa</td>\n",
       "      <td>2025</td>\n",
       "      <td>15795</td>\n",
       "      <td>2267</td>\n",
       "      <td>1446</td>\n",
       "      <td>3314</td>\n",
       "      <td>4477</td>\n",
       "      <td>2215</td>\n",
       "      <td>2076</td>\n",
       "    </tr>\n",
       "  </tbody>\n",
       "</table>\n",
       "</div>"
      ],
      "text/plain": [
       "   Alue  Vuosi  Yhteensä Väestö 31.12. (ennuste 2021)  \\\n",
       "0  Akaa   2021                                  16264   \n",
       "1  Akaa   2022                                  16142   \n",
       "2  Akaa   2023                                  16023   \n",
       "3  Akaa   2024                                  15906   \n",
       "4  Akaa   2025                                  15795   \n",
       "\n",
       "   0 - 14 Väestö 31.12. (ennuste 2021)  15 - 24 Väestö 31.12. (ennuste 2021)  \\\n",
       "0                                 2628                                  1479   \n",
       "1                                 2519                                  1489   \n",
       "2                                 2438                                  1473   \n",
       "3                                 2356                                  1451   \n",
       "4                                 2267                                  1446   \n",
       "\n",
       "   25 - 44 Väestö 31.12. (ennuste 2021)  45 - 64 Väestö 31.12. (ennuste 2021)  \\\n",
       "0                                  3621                                  4482   \n",
       "1                                  3534                                  4468   \n",
       "2                                  3448                                  4478   \n",
       "3                                  3394                                  4461   \n",
       "4                                  3314                                  4477   \n",
       "\n",
       "   65 - 74 Väestö 31.12. (ennuste 2021)  75 - Väestö 31.12. (ennuste 2021)  \n",
       "0                                  2368                               1686  \n",
       "1                                  2357                               1775  \n",
       "2                                  2283                               1903  \n",
       "3                                  2244                               2000  \n",
       "4                                  2215                               2076  "
      ]
     },
     "execution_count": 31,
     "metadata": {},
     "output_type": "execute_result"
    }
   ],
   "source": [
    "csv_file = 'raw_data/139f_väestöennuste.csv'\n",
    "\n",
    "population_fc_raw_df = pd.read_csv(csv_file, delimiter=';', encoding='latin1')\n",
    "\n",
    "population_fc_raw_df.head()"
   ]
  },
  {
   "cell_type": "markdown",
   "metadata": {},
   "source": [
    "##### Rename columns"
   ]
  },
  {
   "cell_type": "code",
   "execution_count": 32,
   "metadata": {},
   "outputs": [
    {
     "name": "stdout",
     "output_type": "stream",
     "text": [
      "<class 'pandas.core.frame.DataFrame'>\n",
      "RangeIndex: 12978 entries, 0 to 12977\n",
      "Data columns (total 9 columns):\n",
      " #   Column             Non-Null Count  Dtype  \n",
      "---  ------             --------------  -----  \n",
      " 0   Municipality name  12978 non-null  object \n",
      " 1   Year               12978 non-null  int64  \n",
      " 2   Total population   12978 non-null  float64\n",
      " 3   0 - 14             12978 non-null  float64\n",
      " 4   15 - 24            12978 non-null  float64\n",
      " 5   25 - 44            12978 non-null  float64\n",
      " 6   45 - 64            12978 non-null  float64\n",
      " 7   65 - 74            12978 non-null  float64\n",
      " 8   75 -               12978 non-null  float64\n",
      "dtypes: float64(7), int64(1), object(1)\n",
      "memory usage: 912.6+ KB\n"
     ]
    }
   ],
   "source": [
    "population_raw_df.rename(\n",
    "    columns={\n",
    "        'Alue': 'Municipality name', \n",
    "        'Vuosi': 'Year',\n",
    "        'Yhteensä Väestö 31.12. (ennuste 2021)': 'Total population',\n",
    "        '0 - 14 Väestö 31.12. (ennuste 2021)': '0 - 14',\n",
    "        '15 - 24 Väestö 31.12. (ennuste 2021)': '15 - 24',\n",
    "        '25 - 44 Väestö 31.12. (ennuste 2021)': '25 - 44',\n",
    "        '45 - 64 Väestö 31.12. (ennuste 2021)': '45 - 64',\n",
    "        '65 - 74 Väestö 31.12. (ennuste 2021)': '65 - 74',\n",
    "        '75 - Väestö 31.12. (ennuste 2021)': '75 -',\n",
    "    },\n",
    "    inplace=True\n",
    ")\n",
    "\n",
    "population_raw_df.info()"
   ]
  },
  {
   "cell_type": "markdown",
   "metadata": {},
   "source": [
    "##### Write to .csv"
   ]
  },
  {
   "cell_type": "code",
   "execution_count": 33,
   "metadata": {},
   "outputs": [],
   "source": [
    "file_path = 'preprocessed_data/preprocessed_population_fc.csv'\n",
    "population_raw_df.to_csv(file_path, index=False)"
   ]
  },
  {
   "cell_type": "markdown",
   "metadata": {},
   "source": [
    "# Merging apartment & population data 2011-2022"
   ]
  },
  {
   "cell_type": "code",
   "execution_count": 34,
   "metadata": {},
   "outputs": [
    {
     "name": "stdout",
     "output_type": "stream",
     "text": [
      "<class 'pandas.core.frame.DataFrame'>\n",
      "RangeIndex: 720 entries, 0 to 719\n",
      "Data columns (total 7 columns):\n",
      " #   Column                  Non-Null Count  Dtype   \n",
      "---  ------                  --------------  -----   \n",
      " 0   Year                    720 non-null    int64   \n",
      " 1   City                    720 non-null    object  \n",
      " 2   Rooms                   720 non-null    category\n",
      " 3   Rent per m2             720 non-null    float64 \n",
      " 4   Rental apartment count  720 non-null    int64   \n",
      " 5   Sales price per m2      720 non-null    int64   \n",
      " 6   Sold apartments count   720 non-null    int64   \n",
      "dtypes: category(1), float64(1), int64(4), object(1)\n",
      "memory usage: 34.7+ KB\n"
     ]
    }
   ],
   "source": [
    "merged_apartment_df.info()"
   ]
  },
  {
   "cell_type": "code",
   "execution_count": 35,
   "metadata": {},
   "outputs": [
    {
     "name": "stdout",
     "output_type": "stream",
     "text": [
      "<class 'pandas.core.frame.DataFrame'>\n",
      "RangeIndex: 12978 entries, 0 to 12977\n",
      "Data columns (total 9 columns):\n",
      " #   Column             Non-Null Count  Dtype  \n",
      "---  ------             --------------  -----  \n",
      " 0   Municipality name  12978 non-null  object \n",
      " 1   Year               12978 non-null  int64  \n",
      " 2   Total population   12978 non-null  float64\n",
      " 3   0 - 14             12978 non-null  float64\n",
      " 4   15 - 24            12978 non-null  float64\n",
      " 5   25 - 44            12978 non-null  float64\n",
      " 6   45 - 64            12978 non-null  float64\n",
      " 7   65 - 74            12978 non-null  float64\n",
      " 8   75 -               12978 non-null  float64\n",
      "dtypes: float64(7), int64(1), object(1)\n",
      "memory usage: 912.6+ KB\n"
     ]
    }
   ],
   "source": [
    "population_raw_df.info()"
   ]
  },
  {
   "cell_type": "code",
   "execution_count": 36,
   "metadata": {},
   "outputs": [
    {
     "data": {
      "text/html": [
       "<div>\n",
       "<style scoped>\n",
       "    .dataframe tbody tr th:only-of-type {\n",
       "        vertical-align: middle;\n",
       "    }\n",
       "\n",
       "    .dataframe tbody tr th {\n",
       "        vertical-align: top;\n",
       "    }\n",
       "\n",
       "    .dataframe thead th {\n",
       "        text-align: right;\n",
       "    }\n",
       "</style>\n",
       "<table border=\"1\" class=\"dataframe\">\n",
       "  <thead>\n",
       "    <tr style=\"text-align: right;\">\n",
       "      <th></th>\n",
       "      <th>Year</th>\n",
       "      <th>City</th>\n",
       "      <th>Total population</th>\n",
       "    </tr>\n",
       "  </thead>\n",
       "  <tbody>\n",
       "    <tr>\n",
       "      <th>0</th>\n",
       "      <td>1981</td>\n",
       "      <td>Akaa</td>\n",
       "      <td>15768.5</td>\n",
       "    </tr>\n",
       "    <tr>\n",
       "      <th>1</th>\n",
       "      <td>1981</td>\n",
       "      <td>Alajärvi</td>\n",
       "      <td>11154.0</td>\n",
       "    </tr>\n",
       "    <tr>\n",
       "      <th>2</th>\n",
       "      <td>1981</td>\n",
       "      <td>Alavieska</td>\n",
       "      <td>2996.5</td>\n",
       "    </tr>\n",
       "    <tr>\n",
       "      <th>3</th>\n",
       "      <td>1981</td>\n",
       "      <td>Alavus</td>\n",
       "      <td>13610.0</td>\n",
       "    </tr>\n",
       "    <tr>\n",
       "      <th>4</th>\n",
       "      <td>1981</td>\n",
       "      <td>Asikkala</td>\n",
       "      <td>8285.5</td>\n",
       "    </tr>\n",
       "  </tbody>\n",
       "</table>\n",
       "</div>"
      ],
      "text/plain": [
       "   Year       City  Total population\n",
       "0  1981       Akaa           15768.5\n",
       "1  1981   Alajärvi           11154.0\n",
       "2  1981  Alavieska            2996.5\n",
       "3  1981     Alavus           13610.0\n",
       "4  1981   Asikkala            8285.5"
      ]
     },
     "execution_count": 36,
     "metadata": {},
     "output_type": "execute_result"
    }
   ],
   "source": [
    "population_df = population_raw_df[['Municipality name', 'Year', 'Total population']].copy()\n",
    "\n",
    "population_df.rename(\n",
    "    columns={\n",
    "        'Municipality name': 'City'\n",
    "    },\n",
    "    inplace=True\n",
    ")\n",
    "\n",
    "population_df['City'] = population_df['City'].replace(['Espoo', 'Kauniainen'], 'Espoo-Kauniainen')\n",
    "\n",
    "population_grouped = population_df.groupby(['Year', 'City'], as_index=False)\n",
    "population_grouped_df = population_grouped['Total population'].sum()\n",
    "population_grouped_df = population_grouped_df.reset_index(drop=True)\n",
    "\n",
    "population_grouped_df.head()\n"
   ]
  },
  {
   "cell_type": "code",
   "execution_count": 37,
   "metadata": {},
   "outputs": [
    {
     "data": {
      "text/html": [
       "<div>\n",
       "<style scoped>\n",
       "    .dataframe tbody tr th:only-of-type {\n",
       "        vertical-align: middle;\n",
       "    }\n",
       "\n",
       "    .dataframe tbody tr th {\n",
       "        vertical-align: top;\n",
       "    }\n",
       "\n",
       "    .dataframe thead th {\n",
       "        text-align: right;\n",
       "    }\n",
       "</style>\n",
       "<table border=\"1\" class=\"dataframe\">\n",
       "  <thead>\n",
       "    <tr style=\"text-align: right;\">\n",
       "      <th></th>\n",
       "      <th>Year</th>\n",
       "      <th>City</th>\n",
       "      <th>Rooms</th>\n",
       "      <th>Rent per m2</th>\n",
       "      <th>Rental apartment count</th>\n",
       "      <th>Sales price per m2</th>\n",
       "      <th>Sold apartments count</th>\n",
       "      <th>Total population</th>\n",
       "    </tr>\n",
       "  </thead>\n",
       "  <tbody>\n",
       "    <tr>\n",
       "      <th>0</th>\n",
       "      <td>2011</td>\n",
       "      <td>Helsinki</td>\n",
       "      <td>1</td>\n",
       "      <td>18.83</td>\n",
       "      <td>9050</td>\n",
       "      <td>4645</td>\n",
       "      <td>3154</td>\n",
       "      <td>591966.5</td>\n",
       "    </tr>\n",
       "    <tr>\n",
       "      <th>1</th>\n",
       "      <td>2011</td>\n",
       "      <td>Helsinki</td>\n",
       "      <td>2</td>\n",
       "      <td>14.20</td>\n",
       "      <td>5949</td>\n",
       "      <td>3966</td>\n",
       "      <td>4973</td>\n",
       "      <td>591966.5</td>\n",
       "    </tr>\n",
       "    <tr>\n",
       "      <th>2</th>\n",
       "      <td>2011</td>\n",
       "      <td>Helsinki</td>\n",
       "      <td>3</td>\n",
       "      <td>12.22</td>\n",
       "      <td>2181</td>\n",
       "      <td>3987</td>\n",
       "      <td>3476</td>\n",
       "      <td>591966.5</td>\n",
       "    </tr>\n",
       "    <tr>\n",
       "      <th>3</th>\n",
       "      <td>2011</td>\n",
       "      <td>Espoo-Kauniainen</td>\n",
       "      <td>1</td>\n",
       "      <td>15.72</td>\n",
       "      <td>1217</td>\n",
       "      <td>3525</td>\n",
       "      <td>370</td>\n",
       "      <td>258952.5</td>\n",
       "    </tr>\n",
       "    <tr>\n",
       "      <th>4</th>\n",
       "      <td>2011</td>\n",
       "      <td>Espoo-Kauniainen</td>\n",
       "      <td>2</td>\n",
       "      <td>13.88</td>\n",
       "      <td>1318</td>\n",
       "      <td>3209</td>\n",
       "      <td>1085</td>\n",
       "      <td>258952.5</td>\n",
       "    </tr>\n",
       "  </tbody>\n",
       "</table>\n",
       "</div>"
      ],
      "text/plain": [
       "   Year              City Rooms  Rent per m2  Rental apartment count  \\\n",
       "0  2011          Helsinki     1        18.83                    9050   \n",
       "1  2011          Helsinki     2        14.20                    5949   \n",
       "2  2011          Helsinki     3        12.22                    2181   \n",
       "3  2011  Espoo-Kauniainen     1        15.72                    1217   \n",
       "4  2011  Espoo-Kauniainen     2        13.88                    1318   \n",
       "\n",
       "   Sales price per m2  Sold apartments count  Total population  \n",
       "0                4645                   3154          591966.5  \n",
       "1                3966                   4973          591966.5  \n",
       "2                3987                   3476          591966.5  \n",
       "3                3525                    370          258952.5  \n",
       "4                3209                   1085          258952.5  "
      ]
     },
     "execution_count": 37,
     "metadata": {},
     "output_type": "execute_result"
    }
   ],
   "source": [
    "merged_apartments_population_df = pd.merge(merged_apartment_df, population_grouped_df, on=['Year', 'City'], how='inner')\n",
    "\n",
    "merged_apartments_population_df.head()"
   ]
  },
  {
   "cell_type": "code",
   "execution_count": 38,
   "metadata": {},
   "outputs": [
    {
     "name": "stdout",
     "output_type": "stream",
     "text": [
      "<class 'pandas.core.frame.DataFrame'>\n",
      "Int64Index: 720 entries, 0 to 719\n",
      "Data columns (total 8 columns):\n",
      " #   Column                  Non-Null Count  Dtype   \n",
      "---  ------                  --------------  -----   \n",
      " 0   Year                    720 non-null    int64   \n",
      " 1   City                    720 non-null    object  \n",
      " 2   Rooms                   720 non-null    category\n",
      " 3   Rent per m2             720 non-null    float64 \n",
      " 4   Rental apartment count  720 non-null    int64   \n",
      " 5   Sales price per m2      720 non-null    int64   \n",
      " 6   Sold apartments count   720 non-null    int64   \n",
      " 7   Total population        720 non-null    float64 \n",
      "dtypes: category(1), float64(2), int64(4), object(1)\n",
      "memory usage: 45.8+ KB\n"
     ]
    }
   ],
   "source": [
    "merged_apartments_population_df.info()"
   ]
  },
  {
   "cell_type": "markdown",
   "metadata": {},
   "source": [
    "##### Write to .csv"
   ]
  },
  {
   "cell_type": "code",
   "execution_count": 39,
   "metadata": {},
   "outputs": [],
   "source": [
    "file_path = 'preprocessed_data/preprocessed_merged_apartments_population_2011-2022.csv'\n",
    "merged_apartments_population_df.to_csv(file_path, index=False)"
   ]
  }
 ],
 "metadata": {
  "kernelspec": {
   "display_name": "Python 3",
   "language": "python",
   "name": "python3"
  },
  "language_info": {
   "codemirror_mode": {
    "name": "ipython",
    "version": 3
   },
   "file_extension": ".py",
   "mimetype": "text/x-python",
   "name": "python",
   "nbconvert_exporter": "python",
   "pygments_lexer": "ipython3",
   "version": "3.10.12"
  }
 },
 "nbformat": 4,
 "nbformat_minor": 2
}
